{
  "nbformat": 4,
  "nbformat_minor": 0,
  "metadata": {
    "colab": {
      "provenance": [],
      "authorship_tag": "ABX9TyNcWz0Cw1p51xDdkJhjhdDq",
      "include_colab_link": true
    },
    "kernelspec": {
      "name": "python3",
      "display_name": "Python 3"
    },
    "language_info": {
      "name": "python"
    }
  },
  "cells": [
    {
      "cell_type": "markdown",
      "metadata": {
        "id": "view-in-github",
        "colab_type": "text"
      },
      "source": [
        "<a href=\"https://colab.research.google.com/github/loup1731/IA_2023-1/blob/main/punto1_Tarea2_IA.ipynb\" target=\"_parent\"><img src=\"https://colab.research.google.com/assets/colab-badge.svg\" alt=\"Open In Colab\"/></a>"
      ]
    },
    {
      "cell_type": "code",
      "execution_count": null,
      "metadata": {
        "id": "bQB8L3KN0nrq"
      },
      "outputs": [],
      "source": [
        "import numpy  as np # si no lo tiene instalado por favor correr en su consola         $pip install numpy\n",
        "import scipy as sp # si no lo tiene instalado por favor correr en su consola         $pip install scipy\n",
        "import matplotlib #si no lo tiene instalado por favor correr  en su consola   $pip install matplotlib\n",
        "import matplotlib.pyplot as plt"
      ]
    },
    {
      "cell_type": "code",
      "source": [
        "#Para todas las simulaciones:\n",
        "#N=10000\n",
        "#m=3000\n",
        "#numpy.random.seed(seed=2**32 - 1)#Para fijar una semilla para los experimentos y que los numeros generados siempre sean los mismos en cada corrida completa de este fuente."
      ],
      "metadata": {
        "id": "hHIKYdXUlYba"
      },
      "execution_count": null,
      "outputs": []
    },
    {
      "cell_type": "code",
      "source": [
        "# binomial con cierto p entre 0 y 1 y cierto n n,p = 10, 0.5 \n",
        "# generar una muestra aleatoria de números binomiales con n=10 y p=0.5\n",
        "muestra = np.random.binomial(n=10, p=0.5, size=1500)\n",
        "# graficar los números aleatorios\n",
        "plt.hist(muestra, bins=range(12), align='left', edgecolor='black')\n",
        "plt.xlabel('Número de éxitos')\n",
        "plt.ylabel('Frecuencia')\n",
        "plt.show()"
      ],
      "metadata": {
        "colab": {
          "base_uri": "https://localhost:8080/",
          "height": 283
        },
        "id": "kcKTkeesYrn1",
        "outputId": "4a403e13-75cd-463c-f310-2ea4a576e591"
      },
      "execution_count": null,
      "outputs": [
        {
          "output_type": "display_data",
          "data": {
            "text/plain": [
              "<Figure size 432x288 with 1 Axes>"
            ],
            "image/png": "[encoded data removed]"
          },
          "metadata": {
            "needs_background": "light"
          }
        }
      ]
    },
    {
      "cell_type": "code",
      "source": [
        "# ordenar la muestra de menor a mayor\n",
        "muestra_ordenada = np.sort(muestra)\n",
        "# graficar la muestra ordenada\n",
        "plt.plot(muestra_ordenada, np.arange(len(muestra_ordenada))/len(muestra_ordenada))\n",
        "plt.xlabel('Número de éxitos')\n",
        "plt.ylabel('Frecuencia acumulada')\n",
        "plt.show()"
      ],
      "metadata": {
        "colab": {
          "base_uri": "https://localhost:8080/",
          "height": 279
        },
        "id": "nKBI8iam0nED",
        "outputId": "d02d6d1d-e92a-4d1f-9a36-ac4ed052cd5b"
      },
      "execution_count": null,
      "outputs": [
        {
          "output_type": "display_data",
          "data": {
            "text/plain": [
              "<Figure size 432x288 with 1 Axes>"
            ],
            "image/png": "[encoded data removed]"
          },
          "metadata": {
            "needs_background": "light"
          }
        }
      ]
    },
    {
      "cell_type": "code",
      "source": [
        "# calcular los valores teóricos de la media y varianza\n",
        "media_teorica = 10 * 0.5\n",
        "varianza_teorica = 10 * 0.5 * (1 - 0.5)\n",
        "# calcular los valores estimados de la media y varianza\n",
        "media_estimada = np.mean(muestra)\n",
        "varianza_estimada = np.var(muestra)\n",
        "# imprimir los valores teóricos y estimados de la media y varianza\n",
        "print('Media teórica:', media_teorica)\n",
        "print('Media estimada:', media_estimada)\n",
        "print('Varianza teórica:', varianza_teorica)\n",
        "print('Varianza estimada:', varianza_estimada)"
      ],
      "metadata": {
        "colab": {
          "base_uri": "https://localhost:8080/"
        },
        "id": "1MWAefd607-E",
        "outputId": "01f09418-6dd4-492d-9c63-18f2ec62e920"
      },
      "execution_count": null,
      "outputs": [
        {
          "output_type": "stream",
          "name": "stdout",
          "text": [
            "Media teórica: 5.0\n",
            "Media estimada: 4.962666666666666\n",
            "Varianza teórica: 2.5\n",
            "Varianza estimada: 2.3506062222222224\n"
          ]
        }
      ]
    },
    {
      "cell_type": "code",
      "source": [
        "# Geométrica con cierto p entre 0 y 1 p = 0.3\n",
        "# generar una muestra aleatoria de números geométricos con p=0.3\n",
        "muestra = np.random.geometric(p=0.3, size=1500)\n",
        "# graficar los números aleatorios\n",
        "plt.hist(muestra, bins=range(1, 21), align='left', edgecolor='black')\n",
        "plt.xlabel('Número de fracasos antes del primer éxito')\n",
        "plt.ylabel('Frecuencia')\n",
        "plt.show()"
      ],
      "metadata": {
        "colab": {
          "base_uri": "https://localhost:8080/",
          "height": 280
        },
        "id": "ely9MKxAZklB",
        "outputId": "19686201-c8e9-4507-f91f-fb2a4bc2ae57"
      },
      "execution_count": null,
      "outputs": [
        {
          "output_type": "display_data",
          "data": {
            "text/plain": [
              "<Figure size 432x288 with 1 Axes>"
            ],
            "image/png": "[encoded data removed]"
          },
          "metadata": {
            "needs_background": "light"
          }
        }
      ]
    },
    {
      "cell_type": "code",
      "source": [
        "# ordenar la muestra de menor a mayor\n",
        "muestra_ordenada = np.sort(muestra)\n",
        "\n",
        "# graficar la muestra ordenada\n",
        "plt.plot(muestra_ordenada, np.arange(len(muestra_ordenada))/len(muestra_ordenada))\n",
        "plt.xlabel('Número de fracasos antes del primer éxito')\n",
        "plt.ylabel('Frecuencia acumulada')\n",
        "plt.show()"
      ],
      "metadata": {
        "colab": {
          "base_uri": "https://localhost:8080/",
          "height": 280
        },
        "id": "ZCFl__nj1ZgK",
        "outputId": "712b21cc-2bd2-4e3e-8110-f3099c6d59e6"
      },
      "execution_count": null,
      "outputs": [
        {
          "output_type": "display_data",
          "data": {
            "text/plain": [
              "<Figure size 432x288 with 1 Axes>"
            ],
            "image/png": "[encoded data removed]"
          },
          "metadata": {
            "needs_background": "light"
          }
        }
      ]
    },
    {
      "cell_type": "code",
      "source": [
        "# calcular los valores teóricos de la media y varianza\n",
        "media_teorica = (1 - 0.3) / 0.3\n",
        "varianza_teorica = (1 - 0.3) / (0.3 ** 2)\n",
        "\n",
        "# calcular los valores estimados de la media y varianza\n",
        "media_estimada = np.mean(muestra)\n",
        "varianza_estimada = np.var(muestra)\n",
        "\n",
        "# imprimir los valores teóricos y estimados de la media y varianza\n",
        "print('Media teórica:', media_teorica)\n",
        "print('Media estimada:', media_estimada)\n",
        "print('Varianza teórica:', varianza_teorica)\n",
        "print('Varianza estimada:', varianza_estimada)"
      ],
      "metadata": {
        "colab": {
          "base_uri": "https://localhost:8080/"
        },
        "id": "OjLwGLsb1cCq",
        "outputId": "ec95a881-5fe0-4ae3-d975-907d431d4744"
      },
      "execution_count": null,
      "outputs": [
        {
          "output_type": "stream",
          "name": "stdout",
          "text": [
            "Media teórica: 2.3333333333333335\n",
            "Media estimada: 4.962666666666666\n",
            "Varianza teórica: 7.777777777777778\n",
            "Varianza estimada: 2.3506062222222224\n"
          ]
        }
      ]
    },
    {
      "cell_type": "code",
      "source": [
        "# Poisson con cierto Lamnda L L = 5\n",
        "# generar una muestra aleatoria de números Poisson con lambda (L) = 5\n",
        "muestra = np.random.poisson(lam=5, size=1500)\n",
        "\n",
        "# graficar los números aleatorios\n",
        "plt.hist(muestra, bins=range(15), align='left', edgecolor='black')\n",
        "plt.xlabel('Número de ocurrencias')\n",
        "plt.ylabel('Frecuencia')\n",
        "plt.show()"
      ],
      "metadata": {
        "colab": {
          "base_uri": "https://localhost:8080/",
          "height": 279
        },
        "id": "MNATSQQJZk6k",
        "outputId": "75a17785-dfae-4ae8-886a-350dcdd75980"
      },
      "execution_count": null,
      "outputs": [
        {
          "output_type": "display_data",
          "data": {
            "text/plain": [
              "<Figure size 432x288 with 1 Axes>"
            ],
            "image/png": "[encoded data removed]"
          },
          "metadata": {
            "needs_background": "light"
          }
        }
      ]
    },
    {
      "cell_type": "code",
      "source": [
        "# ordenar la muestra de menor a mayor\n",
        "muestra_ordenada = np.sort(muestra)\n",
        "\n",
        "# graficar la muestra ordenada\n",
        "plt.plot(muestra_ordenada, np.arange(len(muestra_ordenada))/len(muestra_ordenada))\n",
        "plt.xlabel('Número de ocurrencias')\n",
        "plt.ylabel('Frecuencia acumulada')\n",
        "plt.show()\n"
      ],
      "metadata": {
        "colab": {
          "base_uri": "https://localhost:8080/",
          "height": 279
        },
        "id": "Mz1aXB1F1rm7",
        "outputId": "6b19d720-7fb1-44b9-ba0e-c4758a55a2d9"
      },
      "execution_count": null,
      "outputs": [
        {
          "output_type": "display_data",
          "data": {
            "text/plain": [
              "<Figure size 432x288 with 1 Axes>"
            ],
            "image/png": "[encoded data removed]"
          },
          "metadata": {
            "needs_background": "light"
          }
        }
      ]
    },
    {
      "cell_type": "code",
      "source": [
        "# calcular los valores teóricos de la media y varianza\n",
        "media_teorica = 5\n",
        "varianza_teorica = 5\n",
        "\n",
        "# calcular los valores estimados de la media y varianza\n",
        "media_estimada = np.mean(muestra)\n",
        "varianza_estimada = np.var(muestra)\n",
        "\n",
        "# imprimir los valores teóricos y estimados de la media y varianza\n",
        "print('Media teórica:', media_teorica)\n",
        "print('Media estimada:', media_estimada)\n",
        "print('Varianza teórica:', varianza_teorica)\n",
        "print('Varianza estimada:', varianza_estimada)"
      ],
      "metadata": {
        "colab": {
          "base_uri": "https://localhost:8080/"
        },
        "id": "fNM5Ysnx1xK7",
        "outputId": "cc16a037-630f-4a50-bbb3-76ed00280e16"
      },
      "execution_count": null,
      "outputs": [
        {
          "output_type": "stream",
          "name": "stdout",
          "text": [
            "Media teórica: 5\n",
            "Media estimada: 4.91\n",
            "Varianza teórica: 5\n",
            "Varianza estimada: 4.8939\n"
          ]
        }
      ]
    },
    {
      "cell_type": "code",
      "source": [
        "#Binomial negativa con parametro p después de r fallos r,p = 5,0.5\n",
        "# generar una muestra aleatoria de números Binomial Negativa con p = 0.5 y r = 5\n",
        "muestra = np.random.negative_binomial(n=5, p=0.5, size=1500)\n",
        "\n",
        "# graficar los números aleatorios\n",
        "plt.hist(muestra, bins=range(25), align='left', edgecolor='black')\n",
        "plt.xlabel('Número de ensayos hasta el r-ésimo fallo')\n",
        "plt.ylabel('Frecuencia')\n",
        "plt.show()\n"
      ],
      "metadata": {
        "colab": {
          "base_uri": "https://localhost:8080/",
          "height": 280
        },
        "id": "ZRHl5GrAZpFr",
        "outputId": "f9ae1f49-21a1-402e-e656-6c9a17863db6"
      },
      "execution_count": null,
      "outputs": [
        {
          "output_type": "display_data",
          "data": {
            "text/plain": [
              "<Figure size 432x288 with 1 Axes>"
            ],
            "image/png": "[encoded data removed]"
          },
          "metadata": {
            "needs_background": "light"
          }
        }
      ]
    },
    {
      "cell_type": "code",
      "source": [
        "# ordenar la muestra de menor a mayor\n",
        "muestra_ordenada = np.sort(muestra)\n",
        "\n",
        "# graficar la muestra ordenada\n",
        "plt.plot(muestra_ordenada, np.arange(len(muestra_ordenada))/len(muestra_ordenada))\n",
        "plt.xlabel('Número de ensayos hasta el r-ésimo fallo')\n",
        "plt.ylabel('Frecuencia acumulada')\n",
        "plt.show()"
      ],
      "metadata": {
        "colab": {
          "base_uri": "https://localhost:8080/",
          "height": 280
        },
        "id": "udmCtxfk2Iif",
        "outputId": "d0a294a8-4ac8-43d1-994d-b62f504f8f8f"
      },
      "execution_count": null,
      "outputs": [
        {
          "output_type": "display_data",
          "data": {
            "text/plain": [
              "<Figure size 432x288 with 1 Axes>"
            ],
            "image/png": "[encoded data removed]"
          },
          "metadata": {
            "needs_background": "light"
          }
        }
      ]
    },
    {
      "cell_type": "code",
      "source": [
        "# calcular los valores teóricos de la media y varianza\n",
        "media_teorica = 10\n",
        "varianza_teorica = 20\n",
        "\n",
        "# calcular los valores estimados de la media y varianza\n",
        "media_estimada = np.mean(muestra)\n",
        "varianza_estimada = np.var(muestra)\n",
        "\n",
        "# imprimir los valores teóricos y estimados de la media y varianza\n",
        "print('Media teórica:', media_teorica)\n",
        "print('Media estimada:', media_estimada)\n",
        "print('Varianza teórica:', varianza_teorica)\n",
        "print('Varianza estimada:', varianza_estimada)"
      ],
      "metadata": {
        "colab": {
          "base_uri": "https://localhost:8080/"
        },
        "id": "fwvNSbwz2foz",
        "outputId": "b6e9c844-0805-433f-926b-5aa866f089c1"
      },
      "execution_count": null,
      "outputs": [
        {
          "output_type": "stream",
          "name": "stdout",
          "text": [
            "Media teórica: 10\n",
            "Media estimada: 5.038\n",
            "Varianza teórica: 20\n",
            "Varianza estimada: 10.276556\n"
          ]
        }
      ]
    },
    {
      "cell_type": "markdown",
      "source": [
        "## Segundo punto Distribuciones contínuas.\n"
      ],
      "metadata": {
        "id": "38NE2BAKZtEn"
      }
    },
    {
      "cell_type": "code",
      "source": [
        "#Para todas las simulaciones:\n",
        "#N=1000\n",
        "#m=300\n",
        "#numpy.random.seed(seed=1314926535)#Para fijar una semilla para los experimentos y que los numeros generados siempre sean los mismos en cada corrida completa de este fuente."
      ],
      "metadata": {
        "id": "aWONZMY5Zo0u"
      },
      "execution_count": null,
      "outputs": []
    },
    {
      "cell_type": "code",
      "source": [
        "# Uniforme entre 0 y 255\n",
        "# generar una muestra aleatoria de números Uniforme entre 0 y 255\n",
        "muestra = np.random.uniform(low=0, high=255, size=1500)\n",
        "\n",
        "# graficar los números aleatorios\n",
        "plt.hist(muestra, bins=range(0, 256, 10), edgecolor='black')\n",
        "plt.xlabel('Valor')\n",
        "plt.ylabel('Frecuencia')\n",
        "plt.show()"
      ],
      "metadata": {
        "colab": {
          "base_uri": "https://localhost:8080/",
          "height": 279
        },
        "id": "qmDTDroiZ1uZ",
        "outputId": "837d3893-2795-4620-ac1a-4de32c1b4aa5"
      },
      "execution_count": null,
      "outputs": [
        {
          "output_type": "display_data",
          "data": {
            "text/plain": [
              "<Figure size 432x288 with 1 Axes>"
            ],
            "image/png": "[encoded data removed]"
          },
          "metadata": {
            "needs_background": "light"
          }
        }
      ]
    },
    {
      "cell_type": "code",
      "source": [
        "# ordenar la muestra de menor a mayor\n",
        "muestra_ordenada = np.sort(muestra)\n",
        "\n",
        "# graficar la muestra ordenada\n",
        "plt.plot(muestra_ordenada, np.arange(len(muestra_ordenada))/len(muestra_ordenada))\n",
        "plt.xlabel('Valor')\n",
        "plt.ylabel('Frecuencia acumulada')\n",
        "plt.show()"
      ],
      "metadata": {
        "colab": {
          "base_uri": "https://localhost:8080/",
          "height": 279
        },
        "id": "O9txrtWw3jBh",
        "outputId": "ced4b248-8a21-4282-e351-a4c759630541"
      },
      "execution_count": null,
      "outputs": [
        {
          "output_type": "display_data",
          "data": {
            "text/plain": [
              "<Figure size 432x288 with 1 Axes>"
            ],
            "image/png": "[encoded data removed]"
          },
          "metadata": {
            "needs_background": "light"
          }
        }
      ]
    },
    {
      "cell_type": "code",
      "source": [
        "# calcular los valores teóricos de la media y varianza\n",
        "media_teorica = (0 + 255) / 2\n",
        "varianza_teorica = ((255 - 0)**2) / 12\n",
        "\n",
        "# calcular los valores estimados de la media y varianza\n",
        "media_estimada = np.mean(muestra)\n",
        "varianza_estimada = np.var(muestra)\n",
        "\n",
        "# imprimir los valores teóricos y estimados de la media y varianza\n",
        "print('Media teórica:', media_teorica)\n",
        "print('Media estimada:', media_estimada)\n",
        "print('Varianza teórica:', varianza_teorica)\n",
        "print('Varianza estimada:', varianza_estimada)"
      ],
      "metadata": {
        "colab": {
          "base_uri": "https://localhost:8080/"
        },
        "id": "Im-bE7Hn3sHQ",
        "outputId": "264e4455-7e2d-4cd2-d96a-329da287067e"
      },
      "execution_count": null,
      "outputs": [
        {
          "output_type": "stream",
          "name": "stdout",
          "text": [
            "Media teórica: 127.5\n",
            "Media estimada: 127.73585921862573\n",
            "Varianza teórica: 5418.75\n",
            "Varianza estimada: 5246.530368077758\n"
          ]
        }
      ]
    },
    {
      "cell_type": "code",
      "source": [
        "# Exponencial con Lamnda L \n",
        "L=0.3\n",
        "# generar una muestra aleatoria de números Exponencial con parámetro L\n",
        "muestra = np.random.exponential(scale=1/L, size=1500)\n",
        "# graficar los números aleatorios\n",
        "plt.hist(muestra, bins=20, edgecolor='black')\n",
        "plt.xlabel('Valor')\n",
        "plt.ylabel('Frecuencia')\n",
        "plt.show()"
      ],
      "metadata": {
        "colab": {
          "base_uri": "https://localhost:8080/",
          "height": 279
        },
        "id": "uriouKlpZ42N",
        "outputId": "ec47e77a-e888-49f4-aea5-3b58ffdc1278"
      },
      "execution_count": null,
      "outputs": [
        {
          "output_type": "display_data",
          "data": {
            "text/plain": [
              "<Figure size 432x288 with 1 Axes>"
            ],
            "image/png": "[encoded data removed]"
          },
          "metadata": {
            "needs_background": "light"
          }
        }
      ]
    },
    {
      "cell_type": "code",
      "source": [
        "# ordenar la muestra de menor a mayor\n",
        "muestra_ordenada = np.sort(muestra)\n",
        "\n",
        "# graficar la muestra ordenada\n",
        "plt.plot(muestra_ordenada, np.arange(len(muestra_ordenada))/len(muestra_ordenada))\n",
        "plt.xlabel('Valor')\n",
        "plt.ylabel('Frecuencia acumulada')\n",
        "plt.show()"
      ],
      "metadata": {
        "colab": {
          "base_uri": "https://localhost:8080/",
          "height": 279
        },
        "id": "Cv6dQAV64kXw",
        "outputId": "c7394d94-d522-46b8-a310-7438499121b0"
      },
      "execution_count": null,
      "outputs": [
        {
          "output_type": "display_data",
          "data": {
            "text/plain": [
              "<Figure size 432x288 with 1 Axes>"
            ],
            "image/png": "[encoded data removed]"
          },
          "metadata": {
            "needs_background": "light"
          }
        }
      ]
    },
    {
      "cell_type": "code",
      "source": [
        "# calcular los valores teóricos de la media y varianza\n",
        "media_teorica = 1 / L\n",
        "varianza_teorica = 1 / (L**2)\n",
        "\n",
        "# calcular los valores estimados de la media y varianza\n",
        "media_estimada = np.mean(muestra)\n",
        "varianza_estimada = np.var(muestra)\n",
        "\n",
        "# imprimir los valores teóricos y estimados de la media y varianza\n",
        "print('Media teórica:', media_teorica)\n",
        "print('Media estimada:', media_estimada)\n",
        "print('Varianza teórica:', varianza_teorica)\n",
        "print('Varianza estimada:', varianza_estimada)"
      ],
      "metadata": {
        "colab": {
          "base_uri": "https://localhost:8080/"
        },
        "id": "xxZ5_osx4j_Q",
        "outputId": "07b1b74e-ad49-4721-8da7-2b43e8331cea"
      },
      "execution_count": null,
      "outputs": [
        {
          "output_type": "stream",
          "name": "stdout",
          "text": [
            "Media teórica: 3.3333333333333335\n",
            "Media estimada: 3.135351822008041\n",
            "Varianza teórica: 11.11111111111111\n",
            "Varianza estimada: 10.045735153260985\n"
          ]
        }
      ]
    },
    {
      "cell_type": "code",
      "source": [
        "#Chi cuadrada con K grados de libertad\n",
        "K=3.0\n",
        "# generar una muestra aleatoria de números Chi cuadrada con K grados de libertad\n",
        "muestra = np.random.chisquare(K, size=1000)\n",
        "\n",
        "# graficar los números aleatorios\n",
        "plt.hist(muestra, bins=20, edgecolor='black')\n",
        "plt.xlabel('Valor')\n",
        "plt.ylabel('Frecuencia')\n",
        "plt.show()"
      ],
      "metadata": {
        "colab": {
          "base_uri": "https://localhost:8080/",
          "height": 279
        },
        "id": "FNVzZ9TkZ88E",
        "outputId": "9e48fb1c-f293-4d54-cd92-1bb2a1b7954f"
      },
      "execution_count": null,
      "outputs": [
        {
          "output_type": "display_data",
          "data": {
            "text/plain": [
              "<Figure size 432x288 with 1 Axes>"
            ],
            "image/png": "[encoded data removed]"
          },
          "metadata": {
            "needs_background": "light"
          }
        }
      ]
    },
    {
      "cell_type": "code",
      "source": [
        "# ordenar la muestra de menor a mayor\n",
        "muestra_ordenada = np.sort(muestra)\n",
        "\n",
        "# graficar la muestra ordenada\n",
        "plt.plot(muestra_ordenada, np.arange(len(muestra_ordenada))/len(muestra_ordenada))\n",
        "plt.xlabel('Valor')\n",
        "plt.ylabel('Frecuencia acumulada')\n",
        "plt.show()"
      ],
      "metadata": {
        "colab": {
          "base_uri": "https://localhost:8080/",
          "height": 279
        },
        "id": "O5kiT7yR4tCY",
        "outputId": "f38c32ec-7c67-499d-baff-b9d3be837888"
      },
      "execution_count": null,
      "outputs": [
        {
          "output_type": "display_data",
          "data": {
            "text/plain": [
              "<Figure size 432x288 with 1 Axes>"
            ],
            "image/png": "[encoded data removed]"
          },
          "metadata": {
            "needs_background": "light"
          }
        }
      ]
    },
    {
      "cell_type": "code",
      "source": [
        "# calcular los valores teóricos de la media y varianza\n",
        "media_teorica = K\n",
        "varianza_teorica = 2*K\n",
        "\n",
        "# calcular los valores estimados de la media y varianza\n",
        "media_estimada = np.mean(muestra)\n",
        "varianza_estimada = np.var(muestra)\n",
        "\n",
        "# imprimir los valores teóricos y estimados de la media y varianza\n",
        "print('Media teórica:', media_teorica)\n",
        "print('Media estimada:', media_estimada)\n",
        "print('Varianza teórica:', varianza_teorica)\n",
        "print('Varianza estimada:', varianza_estimada)"
      ],
      "metadata": {
        "colab": {
          "base_uri": "https://localhost:8080/"
        },
        "id": "MHAp5WDo4x6J",
        "outputId": "00e13efd-f813-4f9a-f495-c8c9bf5e1f54"
      },
      "execution_count": null,
      "outputs": [
        {
          "output_type": "stream",
          "name": "stdout",
          "text": [
            "Media teórica: 3.0\n",
            "Media estimada: 3.0691712704959455\n",
            "Varianza teórica: 6.0\n",
            "Varianza estimada: 6.268095862365906\n"
          ]
        }
      ]
    },
    {
      "cell_type": "code",
      "source": [
        "#Gamma con parametros k y theta t\n",
        "k,t=2.54,0.43\n",
        "aleatorios = np.random.gamma(k, t, 1500)\n",
        "plt.hist(aleatorios, bins=30, density=True)\n",
        "plt.show()"
      ],
      "metadata": {
        "colab": {
          "base_uri": "https://localhost:8080/",
          "height": 268
        },
        "id": "mRAIMIqOZ9OL",
        "outputId": "a6f82b90-4181-42d6-da2d-5e878cabcfe5"
      },
      "execution_count": null,
      "outputs": [
        {
          "output_type": "display_data",
          "data": {
            "text/plain": [
              "<Figure size 432x288 with 1 Axes>"
            ],
            "image/png": "[encoded data removed]"
          },
          "metadata": {
            "needs_background": "light"
          }
        }
      ]
    },
    {
      "cell_type": "code",
      "source": [
        "ordenados = np.sort(aleatorios)\n",
        "plt.plot(ordenados, np.arange(len(ordenados))/len(ordenados))\n",
        "plt.show()"
      ],
      "metadata": {
        "colab": {
          "base_uri": "https://localhost:8080/",
          "height": 265
        },
        "id": "YINhvq0849kh",
        "outputId": "b3e1ff41-9335-48bc-fe0e-bf263fa412d7"
      },
      "execution_count": null,
      "outputs": [
        {
          "output_type": "display_data",
          "data": {
            "text/plain": [
              "<Figure size 432x288 with 1 Axes>"
            ],
            "image/png": "[encoded data removed]"
          },
          "metadata": {
            "needs_background": "light"
          }
        }
      ]
    },
    {
      "cell_type": "code",
      "source": [
        "Media = k * t\n",
        "Varianza = k*(t*t)\n",
        "media_estimada = np.mean(aleatorios)\n",
        "varianza_estimada = np.var(aleatorios)\n",
        "\n",
        "print(\"Media teórica:\", k * t)\n",
        "print(\"Media estimada:\", media_estimada)\n",
        "print(\"Varianza teórica:\", k * t**2)\n",
        "print(\"Varianza estimada:\", varianza_estimada)"
      ],
      "metadata": {
        "colab": {
          "base_uri": "https://localhost:8080/"
        },
        "id": "N8AdGK6Y5ADg",
        "outputId": "cd5d1dfe-894d-4cfb-bc45-94da5eb1a612"
      },
      "execution_count": null,
      "outputs": [
        {
          "output_type": "stream",
          "name": "stdout",
          "text": [
            "Media teórica: 1.0922\n",
            "Media estimada: 1.0992013924484711\n",
            "Varianza teórica: 0.46964599999999995\n",
            "Varianza estimada: 0.43640688750210366\n"
          ]
        }
      ]
    }
  ]
}